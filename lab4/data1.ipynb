{
 "cells": [
  {
   "cell_type": "code",
   "execution_count": null,
   "metadata": {},
   "outputs": [],
   "source": [
    "import pandas as pd\n",
    "import numpy as np\n",
    "import scipy.io as scio\n",
    "\n",
    "%load_ext autoreload\n",
    "%autoreload 2\n",
    "import main"
   ]
  },
  {
   "cell_type": "code",
   "execution_count": 447,
   "metadata": {},
   "outputs": [],
   "source": [
    "mat_data = scio.loadmat('ex4data1.mat')\n",
    "X = pd.DataFrame(mat['X'])\n",
    "y = pd.DataFrame(mat['y']) \\\n",
    "    .applymap(lambda x: x % 10) \\\n",
    "    .iloc[:, 0]\n",
    "y_vec = y.apply(lambda l: pd.Series(main.to_activation(l, 10)))\n",
    "\n",
    "mat_weights = scio.loadmat('ex4weights.mat')\n",
    "Theta1 = np.array(mat_weights['Theta1'])\n",
    "Theta2 = np.array(mat_weights['Theta2'])\n",
    "# wtf with the order of rows here\n",
    "Theta2 = np.roll(Theta2, 1, axis=0)\n",
    "thetas = [Theta1, Theta2]"
   ]
  },
  {
   "cell_type": "code",
   "execution_count": 448,
   "metadata": {},
   "outputs": [
    {
     "name": "stdout",
     "output_type": "stream",
     "text": [
      "Accuracy:  0.9752\n"
     ]
    }
   ],
   "source": [
    "predictions = pd.DataFrame(main.run_network(thetas, X))\n",
    "classes = predictions.apply(main.to_cls, axis='columns')\n",
    "\n",
    "correct = classes[classes == y].count()\n",
    "print('Accuracy: ', correct / len(X))"
   ]
  },
  {
   "cell_type": "code",
   "execution_count": 449,
   "metadata": {},
   "outputs": [
    {
     "name": "stdout",
     "output_type": "stream",
     "text": [
      "0.2876293738642598\n"
     ]
    }
   ],
   "source": [
    "cost = main.network_cost(thetas, predictions, y_vec, 0)\n",
    "print(cost)"
   ]
  },
  {
   "cell_type": "code",
   "execution_count": null,
   "metadata": {
    "scrolled": true
   },
   "outputs": [],
   "source": [
    "alpha = 2\n",
    "epochs = 30\n",
    "batch_size = 50\n",
    "thetas_0 = main.init_weights([400, 25, 10], 0.1)\n",
    "reg_param = 0.1\n",
    "\n",
    "progress = []\n",
    "new_thetas = None\n",
    "for cost, new_thetas in main.run_stochastic_descent(alpha, epochs, thetas_0, X, y_vec, reg_param, batch_size):\n",
    "    progress.append(cost)"
   ]
  },
  {
   "cell_type": "code",
   "execution_count": 471,
   "metadata": {},
   "outputs": [
    {
     "name": "stdout",
     "output_type": "stream",
     "text": [
      "Accuracy: 0.1026\n"
     ]
    }
   ],
   "source": [
    "predictions = pd.DataFrame(main.run_network(new_thetas, X))\n",
    "classes = predictions.apply(main.to_cls, axis='columns')\n",
    "\n",
    "correct = classes[classes == y].count()\n",
    "print('Accuracy:', correct / len(X))"
   ]
  }
 ],
 "metadata": {
  "kernelspec": {
   "display_name": "Python 3",
   "language": "python",
   "name": "python3"
  },
  "language_info": {
   "codemirror_mode": {
    "name": "ipython",
    "version": 3
   },
   "file_extension": ".py",
   "mimetype": "text/x-python",
   "name": "python",
   "nbconvert_exporter": "python",
   "pygments_lexer": "ipython3",
   "version": "3.6.8"
  }
 },
 "nbformat": 4,
 "nbformat_minor": 2
}
